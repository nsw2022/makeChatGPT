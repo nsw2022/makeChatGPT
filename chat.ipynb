{
 "cells": [
  {
   "cell_type": "code",
   "execution_count": null,
   "metadata": {},
   "outputs": [],
   "source": [
    "import os\n",
    "import time\n",
    "#OPENAI_API_KEY = os.environ[\"OPENAI_API_KEY\"] = \"환경변수로 등록할 키\"\n",
    "#print(OPENAI_API_KEY)"
   ]
  },
  {
   "cell_type": "code",
   "execution_count": 5,
   "metadata": {},
   "outputs": [
    {
     "name": "stdout",
     "output_type": "stream",
     "text": [
      "ChatCompletionMessage(content=\"In the realm of code, there lies a delight,\\nA concept of magic, both clever and bright,\\nRecursion it's called, a recursive dance,\\nWhere functions are woven in an endless trance.\\n\\nImagine a mirror, reflecting the past,\\nA reflection of self, an enchanting contrast,\\nA word that echoes, an image that repeats,\\nRevealing the beauty of patterns complete.\\n\\nIn programming's world, recursion prevails,\\nUnraveling mysteries, revealing tales,\\nA whisper of sorcery, both bold and brave,\\nUnleashing the power to elegantly behave.\\n\\nA function, you see, calls itself once more,\\nLike a maze of mirrors, an infinite floor,\\nA problem divided, then conquered with grace,\\nRecursive steps, each step leaves a trace.\\n\\nA base, an exit, a point to conclude,\\nA condition fulfilled, a cycle subdued,\\nA looping enchantment, a spell that unveils,\\nThe wonders of algorithms where success trails.\\n\\nLike a dream within dreams, recursive it seems,\\nLayers unfurling, as inner worlds gleam,\\nA garden of loops, each iteration blooms,\\nSolving puzzles with elegance, replacing exasperated fumes.\\n\\nFrom Fibonacci's numbers, to traversing trees,\\nRecursion holds secrets, waiting to please,\\nA pattern unraveled, step by sacred step,\\nA journey of wonder, a code treasure kept.\\n\\nSo heed this poetic wisdom, dear programmer's kin,\\nEmbrace the recursion, let its magic begin,\\nFor within its mystique lies the power untold,\\nTo craft symphonies of code, brilliant and bold.\", role='assistant', function_call=None, tool_calls=None)\n"
     ]
    }
   ],
   "source": [
    "from openai import OpenAI\n",
    "client = OpenAI()\n",
    "\n",
    "completion = client.chat.completions.create(\n",
    "  model=\"gpt-3.5-turbo\",\n",
    "  messages=[\n",
    "    {\"role\": \"system\", \"content\": \"You are a poetic assistant, skilled in explaining complex programming concepts with creative flair.\"},\n",
    "    {\"role\": \"user\", \"content\": \"Compose a poem that explains the concept of recursion in programming.\"}\n",
    "  ]\n",
    ")\n",
    "\n",
    "print(completion.choices[0].message)"
   ]
  },
  {
   "cell_type": "code",
   "execution_count": 13,
   "metadata": {},
   "outputs": [
    {
     "name": "stdout",
     "output_type": "stream",
     "text": [
      "[ThreadMessage(id='msg_6Z64eolnrnMuhRCZAkw0zTdj', assistant_id='asst_PzdKGekmaSED4t7O1Px6U3Lu', content=[MessageContentText(text=Text(annotations=[], value='안녕하세요! 도와드릴 일이 있나요?'), type='text')], created_at=1705762468, file_ids=[], metadata={}, object='thread.message', role='assistant', run_id='run_kQdw12U8w7Y6odqLhu5oeajC', thread_id='thread_ynpPtroUcnppl3Ac9eyX7bIN'), ThreadMessage(id='msg_Wo22LB6lVPE4lwNKZjpxbJDH', assistant_id=None, content=[MessageContentText(text=Text(annotations=[], value='안녕하세요?'), type='text')], created_at=1705762396, file_ids=[], metadata={}, object='thread.message', role='user', run_id=None, thread_id='thread_ynpPtroUcnppl3Ac9eyX7bIN'), ThreadMessage(id='msg_0Ly0WnKxmKKNaNsLSqyAHGg0', assistant_id=None, content=[MessageContentText(text=Text(annotations=[], value='안녕하세요?'), type='text')], created_at=1705762389, file_ids=[], metadata={}, object='thread.message', role='user', run_id=None, thread_id='thread_ynpPtroUcnppl3Ac9eyX7bIN')]\n"
     ]
    }
   ],
   "source": [
    "from openai import OpenAI\n",
    "client = OpenAI()\n",
    "\n",
    "# my_assistant = client.beta.assistants.create(\n",
    "#     #instructions=\"You are a personal math tutor. When asked a question, write and run Python code to answer the question.\",\n",
    "#     name=\"승우\",\n",
    "#     tools=[{\"type\": \"code_interpreter\"}],\n",
    "#     model=\"gpt-3.5-turbo-1106\",\n",
    "# )\n",
    "# print(my_assistant)\n",
    "assistant_id = \"qwer"\n",
    "\n",
    "# empty_thread = client.beta.threads.create()\n",
    "# print(empty_thread)\n",
    "\n",
    "thread_id = \"qwer"\n",
    "\n",
    "# thread_message = client.beta.threads.messages.create(\n",
    "#   thread_id,\n",
    "#   role=\"user\",\n",
    "#   content=\"안녕하세요?\",\n",
    "# )\n",
    "# print(thread_message)\n",
    "\n",
    "# run = client.beta.threads.runs.create(\n",
    "#   thread_id=thread_id,\n",
    "#   assistant_id=assistant_id\n",
    "# )\n",
    "# print(run)\n",
    "\n",
    "run_id = \"run_kQdw12U8w7Y6odqLhu5oeajC\"\n",
    "\n",
    "# run = client.beta.threads.runs.retrieve(\n",
    "#   thread_id=thread_id,\n",
    "#   run_id=run_id\n",
    "# )\n",
    "# print(run)\n",
    "\n",
    "thread_messages = client.beta.threads.messages.list(thread_id)\n",
    "print(thread_messages.data[0].content[0].text.value)"
   ]
  },
  {
   "cell_type": "code",
   "execution_count": 21,
   "metadata": {},
   "outputs": [
    {
     "name": "stdout",
     "output_type": "stream",
     "text": [
      "승우님이셨죠!\n"
     ]
    }
   ],
   "source": [
    "\n",
    "\n",
    "thread_message = client.beta.threads.messages.create(\n",
    "  thread_id,\n",
    "  role=\"user\",\n",
    "  content=\"내이름이뭐라고?\",\n",
    ")\n",
    "#print(thread_message)\n",
    "\n",
    "run = client.beta.threads.runs.create(\n",
    "  thread_id=thread_id,\n",
    "  assistant_id=assistant_id\n",
    ")\n",
    "#print(run)\n",
    "\n",
    "run_id = run.id\n",
    "\n",
    "while True:\n",
    "    run = client.beta.threads.runs.retrieve(\n",
    "    thread_id=thread_id,\n",
    "    run_id=run_id\n",
    "    )\n",
    "    if run.status == \"completed\":\n",
    "        break\n",
    "    else:\n",
    "        time.sleep(2)\n",
    "    #print(thread_messages.data[0].content[0].text.value)\n",
    "        \n",
    "thread_messages = client.beta.threads.messages.list(thread_id)\n",
    "print(thread_messages.data[0].content[0].text.value)"
   ]
  },
  {
   "cell_type": "code",
   "execution_count": null,
   "metadata": {},
   "outputs": [],
   "source": []
  }
 ],
 "metadata": {
  "kernelspec": {
   "display_name": "myvenv",
   "language": "python",
   "name": "python3"
  },
  "language_info": {
   "codemirror_mode": {
    "name": "ipython",
    "version": 3
   },
   "file_extension": ".py",
   "mimetype": "text/x-python",
   "name": "python",
   "nbconvert_exporter": "python",
   "pygments_lexer": "ipython3",
   "version": "3.11.3"
  }
 },
 "nbformat": 4,
 "nbformat_minor": 2
}
